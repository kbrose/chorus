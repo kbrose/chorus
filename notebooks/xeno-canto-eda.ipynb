{
 "cells": [
  {
   "cell_type": "code",
   "execution_count": 1,
   "metadata": {},
   "outputs": [],
   "source": [
    "from collections import Counter\n",
    "import sys\n",
    "sys.path.append('..')\n",
    "\n",
    "from chorus.metadata import xeno_canto, get_sci2en"
   ]
  },
  {
   "cell_type": "code",
   "execution_count": 2,
   "metadata": {},
   "outputs": [],
   "source": [
    "df = xeno_canto()\n",
    "sci2en = get_sci2en()"
   ]
  },
  {
   "cell_type": "code",
   "execution_count": 3,
   "metadata": {},
   "outputs": [
    {
     "data": {
      "text/plain": [
       "(56860, 29)"
      ]
     },
     "execution_count": 3,
     "metadata": {},
     "output_type": "execute_result"
    }
   ],
   "source": [
    "df.shape"
   ]
  },
  {
   "cell_type": "code",
   "execution_count": 4,
   "metadata": {},
   "outputs": [
    {
     "data": {
      "text/plain": [
       "Index(['id', 'gen', 'sp', 'ssp', 'en', 'rec', 'cnt', 'loc', 'lat', 'lng',\n",
       "       'alt', 'type', 'url', 'file', 'file-name', 'sono', 'lic', 'q', 'length',\n",
       "       'time', 'date', 'uploaded', 'also', 'rmk', 'bird-seen', 'playback-used',\n",
       "       'length-seconds', 'scientific-name', 'week'],\n",
       "      dtype='object')"
      ]
     },
     "execution_count": 4,
     "metadata": {},
     "output_type": "execute_result"
    }
   ],
   "source": [
    "df.columns"
   ]
  },
  {
   "cell_type": "code",
   "execution_count": 5,
   "metadata": {},
   "outputs": [],
   "source": [
    "del df['rec']  # no need for this in eda"
   ]
  },
  {
   "cell_type": "code",
   "execution_count": 6,
   "metadata": {},
   "outputs": [
    {
     "data": {
      "text/html": [
       "<div>\n",
       "<style scoped>\n",
       "    .dataframe tbody tr th:only-of-type {\n",
       "        vertical-align: middle;\n",
       "    }\n",
       "\n",
       "    .dataframe tbody tr th {\n",
       "        vertical-align: top;\n",
       "    }\n",
       "\n",
       "    .dataframe thead th {\n",
       "        text-align: right;\n",
       "    }\n",
       "</style>\n",
       "<table border=\"1\" class=\"dataframe\">\n",
       "  <thead>\n",
       "    <tr style=\"text-align: right;\">\n",
       "      <th></th>\n",
       "      <th>id</th>\n",
       "      <th>gen</th>\n",
       "      <th>sp</th>\n",
       "      <th>ssp</th>\n",
       "      <th>en</th>\n",
       "      <th>cnt</th>\n",
       "      <th>loc</th>\n",
       "      <th>lat</th>\n",
       "      <th>lng</th>\n",
       "      <th>alt</th>\n",
       "      <th>...</th>\n",
       "      <th>time</th>\n",
       "      <th>date</th>\n",
       "      <th>uploaded</th>\n",
       "      <th>also</th>\n",
       "      <th>rmk</th>\n",
       "      <th>bird-seen</th>\n",
       "      <th>playback-used</th>\n",
       "      <th>length-seconds</th>\n",
       "      <th>scientific-name</th>\n",
       "      <th>week</th>\n",
       "    </tr>\n",
       "  </thead>\n",
       "  <tbody>\n",
       "    <tr>\n",
       "      <th>0</th>\n",
       "      <td>173694</td>\n",
       "      <td>Setophaga</td>\n",
       "      <td>magnolia</td>\n",
       "      <td></td>\n",
       "      <td>Magnolia Warbler</td>\n",
       "      <td>United States</td>\n",
       "      <td>Baxter State Park, Maine</td>\n",
       "      <td>46.0275</td>\n",
       "      <td>-68.9310</td>\n",
       "      <td>650.0</td>\n",
       "      <td>...</td>\n",
       "      <td>17:23</td>\n",
       "      <td>2012-06-04</td>\n",
       "      <td>2014-04-11</td>\n",
       "      <td>[Setophaga striata, Setophaga ruticilla, Zonot...</td>\n",
       "      <td></td>\n",
       "      <td>no</td>\n",
       "      <td>no</td>\n",
       "      <td>56</td>\n",
       "      <td>Setophaga magnolia</td>\n",
       "      <td>23.0</td>\n",
       "    </tr>\n",
       "    <tr>\n",
       "      <th>1</th>\n",
       "      <td>327078</td>\n",
       "      <td>Ammodramus</td>\n",
       "      <td>bairdii</td>\n",
       "      <td></td>\n",
       "      <td>Baird's Sparrow</td>\n",
       "      <td>United States</td>\n",
       "      <td>Soapstone Prairie Natural Area Pronghorn Loop,...</td>\n",
       "      <td>40.9504</td>\n",
       "      <td>-105.0417</td>\n",
       "      <td>1900.0</td>\n",
       "      <td>...</td>\n",
       "      <td>08:30</td>\n",
       "      <td>2016-07-13</td>\n",
       "      <td>2016-07-14</td>\n",
       "      <td>[]</td>\n",
       "      <td>Some wind interference. Recording edited for c...</td>\n",
       "      <td>yes</td>\n",
       "      <td>no</td>\n",
       "      <td>21</td>\n",
       "      <td>Ammodramus bairdii</td>\n",
       "      <td>28.0</td>\n",
       "    </tr>\n",
       "    <tr>\n",
       "      <th>2</th>\n",
       "      <td>308018</td>\n",
       "      <td>Anas</td>\n",
       "      <td>platyrhynchos</td>\n",
       "      <td></td>\n",
       "      <td>Mallard</td>\n",
       "      <td>United States</td>\n",
       "      <td>west end of Pound Road, Niland, Imperial Count...</td>\n",
       "      <td>33.2215</td>\n",
       "      <td>-115.5825</td>\n",
       "      <td>-70.0</td>\n",
       "      <td>...</td>\n",
       "      <td>16:58</td>\n",
       "      <td>2015-04-27</td>\n",
       "      <td>2016-03-22</td>\n",
       "      <td>[Ixobrychus exilis, Cistothorus palustris]</td>\n",
       "      <td>male/female pair took flight as I got near wit...</td>\n",
       "      <td>yes</td>\n",
       "      <td>no</td>\n",
       "      <td>39</td>\n",
       "      <td>Anas platyrhynchos</td>\n",
       "      <td>17.0</td>\n",
       "    </tr>\n",
       "    <tr>\n",
       "      <th>3</th>\n",
       "      <td>416889</td>\n",
       "      <td>Setophaga</td>\n",
       "      <td>striata</td>\n",
       "      <td></td>\n",
       "      <td>Blackpoll Warbler</td>\n",
       "      <td>United States</td>\n",
       "      <td>EastPark Industrial Park, Greenup County, Kent...</td>\n",
       "      <td>38.4007</td>\n",
       "      <td>-82.7954</td>\n",
       "      <td>260.0</td>\n",
       "      <td>...</td>\n",
       "      <td>16:35</td>\n",
       "      <td>2018-05-04</td>\n",
       "      <td>2018-05-25</td>\n",
       "      <td>[]</td>\n",
       "      <td>Medium low winds, in knee high damp grass fiel...</td>\n",
       "      <td>yes</td>\n",
       "      <td>no</td>\n",
       "      <td>4</td>\n",
       "      <td>Setophaga striata</td>\n",
       "      <td>18.0</td>\n",
       "    </tr>\n",
       "    <tr>\n",
       "      <th>4</th>\n",
       "      <td>163210</td>\n",
       "      <td>Thryomanes</td>\n",
       "      <td>bewickii</td>\n",
       "      <td></td>\n",
       "      <td>Bewick's Wren</td>\n",
       "      <td>United States</td>\n",
       "      <td>Indian Painted Rocks, Little Spokane River Nat...</td>\n",
       "      <td>47.7838</td>\n",
       "      <td>-117.5087</td>\n",
       "      <td>700.0</td>\n",
       "      <td>...</td>\n",
       "      <td>12:17</td>\n",
       "      <td>2014-01-04</td>\n",
       "      <td>2014-01-04</td>\n",
       "      <td>[]</td>\n",
       "      <td>2 birds giving \"vit\" calls from the same bush.</td>\n",
       "      <td>yes</td>\n",
       "      <td>no</td>\n",
       "      <td>56</td>\n",
       "      <td>Thryomanes bewickii</td>\n",
       "      <td>1.0</td>\n",
       "    </tr>\n",
       "  </tbody>\n",
       "</table>\n",
       "<p>5 rows × 28 columns</p>\n",
       "</div>"
      ],
      "text/plain": [
       "       id         gen             sp ssp                 en            cnt  \\\n",
       "0  173694   Setophaga       magnolia       Magnolia Warbler  United States   \n",
       "1  327078  Ammodramus        bairdii        Baird's Sparrow  United States   \n",
       "2  308018        Anas  platyrhynchos                Mallard  United States   \n",
       "3  416889   Setophaga        striata      Blackpoll Warbler  United States   \n",
       "4  163210  Thryomanes       bewickii          Bewick's Wren  United States   \n",
       "\n",
       "                                                 loc      lat       lng  \\\n",
       "0                           Baxter State Park, Maine  46.0275  -68.9310   \n",
       "1  Soapstone Prairie Natural Area Pronghorn Loop,...  40.9504 -105.0417   \n",
       "2  west end of Pound Road, Niland, Imperial Count...  33.2215 -115.5825   \n",
       "3  EastPark Industrial Park, Greenup County, Kent...  38.4007  -82.7954   \n",
       "4  Indian Painted Rocks, Little Spokane River Nat...  47.7838 -117.5087   \n",
       "\n",
       "      alt  ...   time       date    uploaded  \\\n",
       "0   650.0  ...  17:23 2012-06-04  2014-04-11   \n",
       "1  1900.0  ...  08:30 2016-07-13  2016-07-14   \n",
       "2   -70.0  ...  16:58 2015-04-27  2016-03-22   \n",
       "3   260.0  ...  16:35 2018-05-04  2018-05-25   \n",
       "4   700.0  ...  12:17 2014-01-04  2014-01-04   \n",
       "\n",
       "                                                also  \\\n",
       "0  [Setophaga striata, Setophaga ruticilla, Zonot...   \n",
       "1                                                 []   \n",
       "2         [Ixobrychus exilis, Cistothorus palustris]   \n",
       "3                                                 []   \n",
       "4                                                 []   \n",
       "\n",
       "                                                 rmk bird-seen playback-used  \\\n",
       "0                                                           no            no   \n",
       "1  Some wind interference. Recording edited for c...       yes            no   \n",
       "2  male/female pair took flight as I got near wit...       yes            no   \n",
       "3  Medium low winds, in knee high damp grass fiel...       yes            no   \n",
       "4     2 birds giving \"vit\" calls from the same bush.       yes            no   \n",
       "\n",
       "  length-seconds      scientific-name  week  \n",
       "0             56   Setophaga magnolia  23.0  \n",
       "1             21   Ammodramus bairdii  28.0  \n",
       "2             39   Anas platyrhynchos  17.0  \n",
       "3              4    Setophaga striata  18.0  \n",
       "4             56  Thryomanes bewickii   1.0  \n",
       "\n",
       "[5 rows x 28 columns]"
      ]
     },
     "execution_count": 6,
     "metadata": {},
     "output_type": "execute_result"
    }
   ],
   "source": [
    "df.head()"
   ]
  },
  {
   "cell_type": "code",
   "execution_count": 7,
   "metadata": {},
   "outputs": [
    {
     "data": {
      "text/plain": [
       "811"
      ]
     },
     "execution_count": 7,
     "metadata": {},
     "output_type": "execute_result"
    }
   ],
   "source": [
    "df['en'].unique().size"
   ]
  },
  {
   "cell_type": "code",
   "execution_count": 8,
   "metadata": {},
   "outputs": [
    {
     "data": {
      "text/plain": [
       "Identity unknown         1115\n",
       "Song Sparrow              695\n",
       "Red Crossbill             642\n",
       "Northern Cardinal         537\n",
       "Carolina Wren             511\n",
       "Spotted Towhee            492\n",
       "American Robin            484\n",
       "Bewick's Wren             447\n",
       "Curve-billed Thrasher     447\n",
       "House Wren                433\n",
       "Name: en, dtype: int64"
      ]
     },
     "execution_count": 8,
     "metadata": {},
     "output_type": "execute_result"
    }
   ],
   "source": [
    "df['en'].value_counts().head(10)"
   ]
  },
  {
   "cell_type": "code",
   "execution_count": 9,
   "metadata": {},
   "outputs": [
    {
     "data": {
      "text/plain": [
       "[('Cardinalis cardinalis', 2776),\n",
       " ('Agelaius phoeniceus', 2499),\n",
       " ('Turdus migratorius', 2281),\n",
       " ('Melospiza melodia', 2178),\n",
       " ('Zenaida macroura', 1943),\n",
       " ('Haemorhous mexicanus', 1575),\n",
       " ('Geothlypis trichas', 1520),\n",
       " ('Corvus brachyrhynchos', 1467),\n",
       " ('Setophaga aestiva', 1451),\n",
       " ('Thryothorus ludovicianus', 1439)]"
      ]
     },
     "execution_count": 9,
     "metadata": {},
     "output_type": "execute_result"
    }
   ],
   "source": [
    "true_bird_instances = df['scientific-name'].tolist()\n",
    "for also in df['also']:\n",
    "    true_bird_instances.extend(filter(len, also))\n",
    "Counter(true_bird_instances).most_common(10)"
   ]
  },
  {
   "cell_type": "code",
   "execution_count": 10,
   "metadata": {},
   "outputs": [
    {
     "data": {
      "text/plain": [
       "[('Northern Cardinal', 2776),\n",
       " ('Red-winged Blackbird', 2499),\n",
       " ('American Robin', 2281),\n",
       " ('Song Sparrow', 2178),\n",
       " ('Mourning Dove', 1943),\n",
       " ('House Finch', 1575),\n",
       " ('Common Yellowthroat', 1520),\n",
       " ('American Crow', 1467),\n",
       " ('American Yellow Warbler', 1451),\n",
       " ('Carolina Wren', 1439),\n",
       " ('Spotted Towhee', 1365),\n",
       " ('House Wren', 1357),\n",
       " ('Blue Jay', 1274),\n",
       " ('White-winged Dove', 1267),\n",
       " (\"Bewick's Wren\", 1207),\n",
       " ('Northern Mockingbird', 1123),\n",
       " ('Identity unknown', 1115),\n",
       " ('Yellow-breasted Chat', 1028),\n",
       " (\"Gambel's Quail\", 1027),\n",
       " ('Western Meadowlark', 975)]"
      ]
     },
     "execution_count": 10,
     "metadata": {},
     "output_type": "execute_result"
    }
   ],
   "source": [
    "Counter([sci2en[bird] for bird in true_bird_instances]).most_common(20)"
   ]
  },
  {
   "cell_type": "code",
   "execution_count": 11,
   "metadata": {},
   "outputs": [
    {
     "data": {
      "text/plain": [
       "song           16810\n",
       "call           15556\n",
       "call, song      3016\n",
       "flight call     2230\n",
       "male, song      1334\n",
       "Name: type, dtype: int64"
      ]
     },
     "execution_count": 11,
     "metadata": {},
     "output_type": "execute_result"
    }
   ],
   "source": [
    "df['type'].value_counts().head()"
   ]
  },
  {
   "cell_type": "code",
   "execution_count": 12,
   "metadata": {},
   "outputs": [
    {
     "data": {
      "text/plain": [
       "[('call', 27131),\n",
       " ('song', 26637),\n",
       " ('male', 5615),\n",
       " ('adult', 4813),\n",
       " ('flight call', 3983),\n",
       " ('sex uncertain', 2938),\n",
       " ('alarm call', 1611),\n",
       " ('female', 1515),\n",
       " ('juvenile', 1205),\n",
       " ('begging call', 1008),\n",
       " ('life stage uncertain', 686),\n",
       " ('drumming', 485),\n",
       " ('dawn song', 426),\n",
       " ('interaction calls', 282),\n",
       " ('uncertain', 189),\n",
       " ('subsong', 185),\n",
       " ('nocturnal flight call', 143),\n",
       " ('flight song', 128),\n",
       " ('wing noise', 97),\n",
       " ('bill clappering', 86)]"
      ]
     },
     "execution_count": 12,
     "metadata": {},
     "output_type": "execute_result"
    }
   ],
   "source": [
    "Counter(x for row in df['type'].str.lower().str.split(', ') for x in row).most_common(20)"
   ]
  },
  {
   "cell_type": "code",
   "execution_count": null,
   "metadata": {},
   "outputs": [],
   "source": []
  }
 ],
 "metadata": {
  "file_extension": ".py",
  "kernelspec": {
   "display_name": "Python 3",
   "language": "python",
   "name": "python3"
  },
  "language_info": {
   "codemirror_mode": {
    "name": "ipython",
    "version": 3
   },
   "file_extension": ".py",
   "mimetype": "text/x-python",
   "name": "python",
   "nbconvert_exporter": "python",
   "pygments_lexer": "ipython3",
   "version": "3.9.1"
  },
  "mimetype": "text/x-python",
  "name": "python",
  "npconvert_exporter": "python",
  "pygments_lexer": "ipython3",
  "version": 3
 },
 "nbformat": 4,
 "nbformat_minor": 4
}
