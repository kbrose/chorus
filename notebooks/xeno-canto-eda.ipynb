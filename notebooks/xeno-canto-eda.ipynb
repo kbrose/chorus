{
 "nbformat": 4,
 "nbformat_minor": 2,
 "metadata": {
  "language_info": {
   "name": "python",
   "codemirror_mode": {
    "name": "ipython",
    "version": 3
   },
   "version": "3.7.6-final"
  },
  "orig_nbformat": 2,
  "file_extension": ".py",
  "mimetype": "text/x-python",
  "name": "python",
  "npconvert_exporter": "python",
  "pygments_lexer": "ipython3",
  "version": 3,
  "kernelspec": {
   "name": "python37664bitchorusvenvace6c7330a9f4870856d622a7288c3d8",
   "display_name": "Python 3.7.6 64-bit ('chorus': venv)"
  }
 },
 "cells": [
  {
   "cell_type": "code",
   "execution_count": 1,
   "metadata": {},
   "outputs": [],
   "source": [
    "from collections import Counter\n",
    "from chorus.data import load_saved_xeno_canto_meta"
   ]
  },
  {
   "cell_type": "code",
   "execution_count": 2,
   "metadata": {},
   "outputs": [],
   "source": [
    "df = load_saved_xeno_canto_meta()"
   ]
  },
  {
   "cell_type": "code",
   "execution_count": 3,
   "metadata": {},
   "outputs": [
    {
     "data": {
      "text/html": "<div>\n<style scoped>\n    .dataframe tbody tr th:only-of-type {\n        vertical-align: middle;\n    }\n\n    .dataframe tbody tr th {\n        vertical-align: top;\n    }\n\n    .dataframe thead th {\n        text-align: right;\n    }\n</style>\n<table border=\"1\" class=\"dataframe\">\n  <thead>\n    <tr style=\"text-align: right;\">\n      <th></th>\n      <th>id</th>\n      <th>gen</th>\n      <th>sp</th>\n      <th>ssp</th>\n      <th>en</th>\n      <th>rec</th>\n      <th>cnt</th>\n      <th>loc</th>\n      <th>lat</th>\n      <th>lng</th>\n      <th>...</th>\n      <th>q</th>\n      <th>length</th>\n      <th>time</th>\n      <th>date</th>\n      <th>uploaded</th>\n      <th>also</th>\n      <th>rmk</th>\n      <th>bird-seen</th>\n      <th>playback-used</th>\n      <th>scientific-name</th>\n    </tr>\n  </thead>\n  <tbody>\n    <tr>\n      <th>0</th>\n      <td>203262</td>\n      <td>Anas</td>\n      <td>rubripes</td>\n      <td></td>\n      <td>American Black Duck</td>\n      <td>Andrew Spencer</td>\n      <td>United States</td>\n      <td>Nelson Beach, Plymouth, Plymouth Co., Massachu...</td>\n      <td>41.9674</td>\n      <td>-70.6715</td>\n      <td>...</td>\n      <td>A</td>\n      <td>0:09</td>\n      <td>10:00</td>\n      <td>2014-11-16</td>\n      <td>2014-11-23</td>\n      <td>[]</td>\n      <td>natural vocalization; calls from a phenotypica...</td>\n      <td>yes</td>\n      <td>no</td>\n      <td>Anas rubripes</td>\n    </tr>\n    <tr>\n      <th>1</th>\n      <td>196163</td>\n      <td>Cardinalis</td>\n      <td>cardinalis</td>\n      <td></td>\n      <td>Northern Cardinal</td>\n      <td>Paul Marvin</td>\n      <td>United States</td>\n      <td>Sugarloaf Key, Monroe County, Florida</td>\n      <td>24.603</td>\n      <td>-81.5715</td>\n      <td>...</td>\n      <td>A</td>\n      <td>2:18</td>\n      <td>11:59</td>\n      <td>2014-07-05</td>\n      <td>2014-09-21</td>\n      <td>[Patagioenas leucocephala, Melanerpes carolinus]</td>\n      <td>in mangroves</td>\n      <td>no</td>\n      <td>no</td>\n      <td>Cardinalis cardinalis</td>\n    </tr>\n    <tr>\n      <th>2</th>\n      <td>438938</td>\n      <td>Bubo</td>\n      <td>virginianus</td>\n      <td></td>\n      <td>Great Horned Owl</td>\n      <td>Thomas Ryan</td>\n      <td>United States</td>\n      <td>Salt Lake City, Salt Lake County, Utah</td>\n      <td>40.7425</td>\n      <td>-111.8617</td>\n      <td>...</td>\n      <td>B</td>\n      <td>0:57</td>\n      <td>00:06</td>\n      <td>2018-10-16</td>\n      <td>2018-10-16</td>\n      <td>[]</td>\n      <td>Repeated hoots ending with one large call (the...</td>\n      <td>no</td>\n      <td>unknown</td>\n      <td>Bubo virginianus</td>\n    </tr>\n    <tr>\n      <th>3</th>\n      <td>385478</td>\n      <td>Chlorodrepanis</td>\n      <td>virens</td>\n      <td></td>\n      <td>Hawaii Amakihi</td>\n      <td>Ulf Elman</td>\n      <td>United States</td>\n      <td>Waipoli rd, unpaved top section, Maui, Hawaii</td>\n      <td>20.7123</td>\n      <td>-156.3029</td>\n      <td>...</td>\n      <td>C</td>\n      <td>0:03</td>\n      <td>14:57</td>\n      <td>2017-08-27</td>\n      <td>2017-09-07</td>\n      <td>[]</td>\n      <td>Sony PCM-M10 internal microphones with Reinhar...</td>\n      <td>no</td>\n      <td>no</td>\n      <td>Chlorodrepanis virens</td>\n    </tr>\n    <tr>\n      <th>4</th>\n      <td>98178</td>\n      <td>Clangula</td>\n      <td>hyemalis</td>\n      <td></td>\n      <td>Long-tailed Duck</td>\n      <td>Steve Kelling</td>\n      <td>United States</td>\n      <td>United States Caroline New York Nocturnal Flig...</td>\n      <td>42.343</td>\n      <td>-76.3</td>\n      <td>...</td>\n      <td>D</td>\n      <td>0:08</td>\n      <td>12 AM- 6 AM</td>\n      <td>2012-04-04</td>\n      <td>2012-04-06</td>\n      <td>[]</td>\n      <td></td>\n      <td>unknown</td>\n      <td>unknown</td>\n      <td>Clangula hyemalis</td>\n    </tr>\n  </tbody>\n</table>\n<p>5 rows × 27 columns</p>\n</div>",
      "text/plain": "       id             gen           sp ssp                   en  \\\n0  203262            Anas     rubripes      American Black Duck   \n1  196163      Cardinalis   cardinalis        Northern Cardinal   \n2  438938            Bubo  virginianus         Great Horned Owl   \n3  385478  Chlorodrepanis       virens           Hawaii Amakihi   \n4   98178        Clangula     hyemalis         Long-tailed Duck   \n\n              rec            cnt  \\\n0  Andrew Spencer  United States   \n1     Paul Marvin  United States   \n2     Thomas Ryan  United States   \n3       Ulf Elman  United States   \n4   Steve Kelling  United States   \n\n                                                 loc      lat        lng  ...  \\\n0  Nelson Beach, Plymouth, Plymouth Co., Massachu...  41.9674   -70.6715  ...   \n1              Sugarloaf Key, Monroe County, Florida   24.603   -81.5715  ...   \n2             Salt Lake City, Salt Lake County, Utah  40.7425  -111.8617  ...   \n3      Waipoli rd, unpaved top section, Maui, Hawaii  20.7123  -156.3029  ...   \n4  United States Caroline New York Nocturnal Flig...   42.343      -76.3  ...   \n\n   q length         time        date    uploaded  \\\n0  A   0:09        10:00  2014-11-16  2014-11-23   \n1  A   2:18        11:59  2014-07-05  2014-09-21   \n2  B   0:57        00:06  2018-10-16  2018-10-16   \n3  C   0:03        14:57  2017-08-27  2017-09-07   \n4  D   0:08  12 AM- 6 AM  2012-04-04  2012-04-06   \n\n                                               also  \\\n0                                                []   \n1  [Patagioenas leucocephala, Melanerpes carolinus]   \n2                                                []   \n3                                                []   \n4                                                []   \n\n                                                 rmk bird-seen playback-used  \\\n0  natural vocalization; calls from a phenotypica...       yes            no   \n1                                       in mangroves        no            no   \n2  Repeated hoots ending with one large call (the...        no       unknown   \n3  Sony PCM-M10 internal microphones with Reinhar...        no            no   \n4                                                      unknown       unknown   \n\n         scientific-name  \n0          Anas rubripes  \n1  Cardinalis cardinalis  \n2       Bubo virginianus  \n3  Chlorodrepanis virens  \n4      Clangula hyemalis  \n\n[5 rows x 27 columns]"
     },
     "execution_count": 3,
     "metadata": {},
     "output_type": "execute_result"
    }
   ],
   "source": [
    "df.head()"
   ]
  },
  {
   "cell_type": "code",
   "execution_count": 4,
   "metadata": {},
   "outputs": [
    {
     "data": {
      "text/plain": "Identity unknown        847\nRed Crossbill           556\nSong Sparrow            552\nNorthern Cardinal       458\nCarolina Wren           424\nSpotted Towhee          400\nAmerican Robin          385\nBewick's Wren           378\nHouse Wren              367\nRed-winged Blackbird    357\nName: en, dtype: int64"
     },
     "execution_count": 4,
     "metadata": {},
     "output_type": "execute_result"
    }
   ],
   "source": [
    "df['en'].value_counts().head(10)"
   ]
  },
  {
   "cell_type": "code",
   "execution_count": 5,
   "metadata": {},
   "outputs": [
    {
     "data": {
      "text/plain": "Mystery mystery             847\nLoxia curvirostra           556\nMelospiza melodia           552\nCardinalis cardinalis       458\nThryothorus ludovicianus    424\nPipilo maculatus            400\nTurdus migratorius          385\nThryomanes bewickii         378\nTroglodytes aedon           367\nAgelaius phoeniceus         357\nName: scientific-name, dtype: int64"
     },
     "execution_count": 5,
     "metadata": {},
     "output_type": "execute_result"
    }
   ],
   "source": [
    "df['scientific-name'].value_counts().head(10)"
   ]
  },
  {
   "cell_type": "code",
   "execution_count": 6,
   "metadata": {},
   "outputs": [
    {
     "data": {
      "text/plain": "[('Cardinalis cardinalis', 2518),\n ('Agelaius phoeniceus', 2202),\n ('Turdus migratorius', 1883),\n ('Melospiza melodia', 1750),\n ('Zenaida macroura', 1545),\n ('Haemorhous mexicanus', 1327),\n ('Geothlypis trichas', 1321),\n ('Thryothorus ludovicianus', 1300),\n ('Corvus brachyrhynchos', 1267),\n ('Cyanocitta cristata', 1146)]"
     },
     "execution_count": 6,
     "metadata": {},
     "output_type": "execute_result"
    }
   ],
   "source": [
    "true_bird_instances = df['scientific-name'].tolist()\n",
    "for also in df['also']:\n",
    "    true_bird_instances.extend(filter(len, also))\n",
    "Counter(true_bird_instances).most_common(10)"
   ]
  },
  {
   "cell_type": "code",
   "execution_count": 7,
   "metadata": {},
   "outputs": [],
   "source": [
    "scientific_to_en = (\n",
    "    df.drop_duplicates(subset=['scientific-name'])\n",
    "    .set_index('scientific-name')['en']\n",
    "    .to_dict()\n",
    ")"
   ]
  },
  {
   "cell_type": "code",
   "execution_count": 8,
   "metadata": {},
   "outputs": [
    {
     "data": {
      "text/plain": "[('Northern Cardinal', 2518),\n ('Red-winged Blackbird', 2202),\n ('American Robin', 1883),\n ('Song Sparrow', 1750),\n ('Mourning Dove', 1545),\n ('House Finch', 1327),\n ('Common Yellowthroat', 1321),\n ('Carolina Wren', 1300),\n ('American Crow', 1267),\n ('Blue Jay', 1146)]"
     },
     "execution_count": 8,
     "metadata": {},
     "output_type": "execute_result"
    }
   ],
   "source": [
    "Counter([scientific_to_en.get(bird, 'incidental') for bird in true_bird_instances]).most_common(10)"
   ]
  },
  {
   "cell_type": "code",
   "execution_count": 9,
   "metadata": {},
   "outputs": [],
   "source": [
    "df_filtered = df.loc[\n",
    "    df['q'].isin(['A', 'B'])\n",
    "    & (df['also'].apply(lambda x: x == ['']))\n",
    "    & (df['en'] != 'Identity unknown')\n",
    "]"
   ]
  },
  {
   "cell_type": "code",
   "execution_count": 10,
   "metadata": {},
   "outputs": [
    {
     "data": {
      "text/plain": "Song Sparrow            212\nCarolina Wren           185\nNorthern Cardinal       182\nAmerican Robin          175\nRed Crossbill           162\nRed-winged Blackbird    161\nHouse Wren              153\nBewick's Wren           153\nDark-eyed Junco         153\nBlue Jay                151\nName: en, dtype: int64"
     },
     "execution_count": 10,
     "metadata": {},
     "output_type": "execute_result"
    }
   ],
   "source": [
    "df_filtered['en'].value_counts().head(10)"
   ]
  },
  {
   "cell_type": "code",
   "execution_count": 11,
   "metadata": {},
   "outputs": [
    {
     "data": {
      "text/plain": "1687"
     },
     "execution_count": 11,
     "metadata": {},
     "output_type": "execute_result"
    }
   ],
   "source": [
    "df_filtered['en'].value_counts().head(10).sum()"
   ]
  },
  {
   "cell_type": "code",
   "execution_count": 12,
   "metadata": {},
   "outputs": [
    {
     "data": {
      "text/plain": "Song Sparrow             212\nCarolina Wren            185\nNorthern Cardinal        182\nAmerican Robin           175\nRed Crossbill            162\nRed-winged Blackbird     161\nHouse Wren               153\nBewick's Wren            153\nDark-eyed Junco          153\nBlue Jay                 151\nSpotted Towhee           140\nTufted Titmouse          130\nGreat Horned Owl         128\nNorthern Saw-whet Owl    118\nGrey Catbird             116\nNorthern Mockingbird     108\nMarsh Wren               108\nAmerican Crow            107\nCommon Yellowthroat      106\nNorthern Raven           104\nName: en, dtype: int64"
     },
     "execution_count": 12,
     "metadata": {},
     "output_type": "execute_result"
    }
   ],
   "source": [
    "df_filtered['en'].value_counts().head(20)"
   ]
  },
  {
   "cell_type": "code",
   "execution_count": 13,
   "metadata": {},
   "outputs": [
    {
     "data": {
      "text/plain": "2852"
     },
     "execution_count": 13,
     "metadata": {},
     "output_type": "execute_result"
    }
   ],
   "source": [
    "df_filtered['en'].value_counts().head(20).sum()"
   ]
  },
  {
   "cell_type": "code",
   "execution_count": null,
   "metadata": {},
   "outputs": [],
   "source": []
  }
 ]
}