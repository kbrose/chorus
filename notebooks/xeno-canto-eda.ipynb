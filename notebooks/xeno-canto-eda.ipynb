{
 "cells": [
  {
   "cell_type": "code",
   "execution_count": 1,
   "metadata": {},
   "outputs": [],
   "source": [
    "from collections import Counter\n",
    "import sys\n",
    "sys.path.append('..')\n",
    "\n",
    "from chorus.data import load_saved_xeno_canto_meta"
   ]
  },
  {
   "cell_type": "code",
   "execution_count": 2,
   "metadata": {},
   "outputs": [],
   "source": [
    "df = load_saved_xeno_canto_meta()"
   ]
  },
  {
   "cell_type": "code",
   "execution_count": 3,
   "metadata": {},
   "outputs": [
    {
     "data": {
      "text/plain": [
       "(48676, 28)"
      ]
     },
     "execution_count": 3,
     "metadata": {},
     "output_type": "execute_result"
    }
   ],
   "source": [
    "df.shape"
   ]
  },
  {
   "cell_type": "code",
   "execution_count": 4,
   "metadata": {},
   "outputs": [
    {
     "data": {
      "text/plain": [
       "['id',\n",
       " 'gen',\n",
       " 'sp',\n",
       " 'ssp',\n",
       " 'en',\n",
       " 'rec',\n",
       " 'cnt',\n",
       " 'loc',\n",
       " 'lat',\n",
       " 'lng',\n",
       " 'alt',\n",
       " 'type',\n",
       " 'url',\n",
       " 'file',\n",
       " 'file-name',\n",
       " 'sono',\n",
       " 'lic',\n",
       " 'q',\n",
       " 'length',\n",
       " 'time',\n",
       " 'date',\n",
       " 'uploaded',\n",
       " 'also',\n",
       " 'rmk',\n",
       " 'bird-seen',\n",
       " 'playback-used',\n",
       " 'length-seconds',\n",
       " 'scientific-name']"
      ]
     },
     "execution_count": 4,
     "metadata": {},
     "output_type": "execute_result"
    }
   ],
   "source": [
    "df.columns.tolist()"
   ]
  },
  {
   "cell_type": "code",
   "execution_count": 5,
   "metadata": {},
   "outputs": [
    {
     "data": {
      "text/html": [
       "<div>\n",
       "<style scoped>\n",
       "    .dataframe tbody tr th:only-of-type {\n",
       "        vertical-align: middle;\n",
       "    }\n",
       "\n",
       "    .dataframe tbody tr th {\n",
       "        vertical-align: top;\n",
       "    }\n",
       "\n",
       "    .dataframe thead th {\n",
       "        text-align: right;\n",
       "    }\n",
       "</style>\n",
       "<table border=\"1\" class=\"dataframe\">\n",
       "  <thead>\n",
       "    <tr style=\"text-align: right;\">\n",
       "      <th></th>\n",
       "      <th>id</th>\n",
       "      <th>gen</th>\n",
       "      <th>sp</th>\n",
       "      <th>ssp</th>\n",
       "      <th>en</th>\n",
       "      <th>rec</th>\n",
       "      <th>cnt</th>\n",
       "      <th>loc</th>\n",
       "      <th>lat</th>\n",
       "      <th>lng</th>\n",
       "      <th>...</th>\n",
       "      <th>length</th>\n",
       "      <th>time</th>\n",
       "      <th>date</th>\n",
       "      <th>uploaded</th>\n",
       "      <th>also</th>\n",
       "      <th>rmk</th>\n",
       "      <th>bird-seen</th>\n",
       "      <th>playback-used</th>\n",
       "      <th>length-seconds</th>\n",
       "      <th>scientific-name</th>\n",
       "    </tr>\n",
       "  </thead>\n",
       "  <tbody>\n",
       "    <tr>\n",
       "      <th>0</th>\n",
       "      <td>31267</td>\n",
       "      <td>Melospiza</td>\n",
       "      <td>georgiana</td>\n",
       "      <td></td>\n",
       "      <td>Swamp Sparrow</td>\n",
       "      <td>Allen T. Chartier</td>\n",
       "      <td>United States</td>\n",
       "      <td>Michigan, Nyangquing Point Wildlife Area</td>\n",
       "      <td>43.7745</td>\n",
       "      <td>-83.9378</td>\n",
       "      <td>...</td>\n",
       "      <td>0:04</td>\n",
       "      <td>?</td>\n",
       "      <td>2008-06-27</td>\n",
       "      <td>2009-03-19</td>\n",
       "      <td>[Agelaius phoeniceus, Melospiza melodia]</td>\n",
       "      <td></td>\n",
       "      <td>unknown</td>\n",
       "      <td>unknown</td>\n",
       "      <td>4</td>\n",
       "      <td>Melospiza georgiana</td>\n",
       "    </tr>\n",
       "    <tr>\n",
       "      <th>1</th>\n",
       "      <td>215463</td>\n",
       "      <td>Gymnorhinus</td>\n",
       "      <td>cyanocephalus</td>\n",
       "      <td></td>\n",
       "      <td>Pinyon Jay</td>\n",
       "      <td>Kristie Nelson</td>\n",
       "      <td>United States</td>\n",
       "      <td>Mono Mills, Inyo National Forest, Mono County,...</td>\n",
       "      <td>37.8853</td>\n",
       "      <td>-118.9601</td>\n",
       "      <td>...</td>\n",
       "      <td>1:15</td>\n",
       "      <td>14:00</td>\n",
       "      <td>2015-01-29</td>\n",
       "      <td>2015-03-03</td>\n",
       "      <td>[Sitta pygmaea, Nucifraga columbiana, Poecile ...</td>\n",
       "      <td>Flock of about 300 foraging in Jeffery Pine fo...</td>\n",
       "      <td>yes</td>\n",
       "      <td>no</td>\n",
       "      <td>75</td>\n",
       "      <td>Gymnorhinus cyanocephalus</td>\n",
       "    </tr>\n",
       "    <tr>\n",
       "      <th>2</th>\n",
       "      <td>196885</td>\n",
       "      <td>Polioptila</td>\n",
       "      <td>caerulea</td>\n",
       "      <td></td>\n",
       "      <td>Blue-grey Gnatcatcher</td>\n",
       "      <td>Dan Lane</td>\n",
       "      <td>United States</td>\n",
       "      <td>Saguaro National Park (near  Tucson), Pima Cou...</td>\n",
       "      <td>32.209</td>\n",
       "      <td>-110.7103</td>\n",
       "      <td>...</td>\n",
       "      <td>0:54</td>\n",
       "      <td>06:30</td>\n",
       "      <td>2014-08-25</td>\n",
       "      <td>2014-09-28</td>\n",
       "      <td>[Passerina caerulea, Toxostoma curvirostre, Ca...</td>\n",
       "      <td>Natural calls (or response to pishing?) from a...</td>\n",
       "      <td>no</td>\n",
       "      <td>no</td>\n",
       "      <td>54</td>\n",
       "      <td>Polioptila caerulea</td>\n",
       "    </tr>\n",
       "    <tr>\n",
       "      <th>3</th>\n",
       "      <td>187768</td>\n",
       "      <td>Sitta</td>\n",
       "      <td>canadensis</td>\n",
       "      <td></td>\n",
       "      <td>Red-breasted Nuthatch</td>\n",
       "      <td>Paul Driver</td>\n",
       "      <td>United States</td>\n",
       "      <td>Seawall, ME</td>\n",
       "      <td>44.228</td>\n",
       "      <td>-68.312</td>\n",
       "      <td>...</td>\n",
       "      <td>1:10</td>\n",
       "      <td>07:49</td>\n",
       "      <td>2014-07-11</td>\n",
       "      <td>2014-07-18</td>\n",
       "      <td>[]</td>\n",
       "      <td>possible juvenile, calls with higher pitched n...</td>\n",
       "      <td>yes</td>\n",
       "      <td>no</td>\n",
       "      <td>70</td>\n",
       "      <td>Sitta canadensis</td>\n",
       "    </tr>\n",
       "    <tr>\n",
       "      <th>4</th>\n",
       "      <td>457223</td>\n",
       "      <td>Corvus</td>\n",
       "      <td>ossifragus</td>\n",
       "      <td></td>\n",
       "      <td>Fish Crow</td>\n",
       "      <td>Bruce Lagerquist</td>\n",
       "      <td>United States</td>\n",
       "      <td>Joe Overstreet Rd, Lake Kissimmee, Osceola Cou...</td>\n",
       "      <td>27.9368</td>\n",
       "      <td>-81.2252</td>\n",
       "      <td>...</td>\n",
       "      <td>0:12</td>\n",
       "      <td>11:30</td>\n",
       "      <td>2017-03-06</td>\n",
       "      <td>2019-02-19</td>\n",
       "      <td>[]</td>\n",
       "      <td>Bird sitting on light post in parking lot</td>\n",
       "      <td>yes</td>\n",
       "      <td>no</td>\n",
       "      <td>12</td>\n",
       "      <td>Corvus ossifragus</td>\n",
       "    </tr>\n",
       "  </tbody>\n",
       "</table>\n",
       "<p>5 rows × 28 columns</p>\n",
       "</div>"
      ],
      "text/plain": [
       "       id          gen             sp ssp                     en  \\\n",
       "0   31267    Melospiza      georgiana              Swamp Sparrow   \n",
       "1  215463  Gymnorhinus  cyanocephalus                 Pinyon Jay   \n",
       "2  196885   Polioptila       caerulea      Blue-grey Gnatcatcher   \n",
       "3  187768        Sitta     canadensis      Red-breasted Nuthatch   \n",
       "4  457223       Corvus     ossifragus                  Fish Crow   \n",
       "\n",
       "                 rec            cnt  \\\n",
       "0  Allen T. Chartier  United States   \n",
       "1     Kristie Nelson  United States   \n",
       "2           Dan Lane  United States   \n",
       "3        Paul Driver  United States   \n",
       "4   Bruce Lagerquist  United States   \n",
       "\n",
       "                                                 loc      lat        lng  ...  \\\n",
       "0          Michigan, Nyangquing Point Wildlife Area   43.7745   -83.9378  ...   \n",
       "1  Mono Mills, Inyo National Forest, Mono County,...  37.8853  -118.9601  ...   \n",
       "2  Saguaro National Park (near  Tucson), Pima Cou...   32.209  -110.7103  ...   \n",
       "3                                        Seawall, ME   44.228    -68.312  ...   \n",
       "4  Joe Overstreet Rd, Lake Kissimmee, Osceola Cou...  27.9368   -81.2252  ...   \n",
       "\n",
       "  length   time        date    uploaded  \\\n",
       "0   0:04      ?  2008-06-27  2009-03-19   \n",
       "1   1:15  14:00  2015-01-29  2015-03-03   \n",
       "2   0:54  06:30  2014-08-25  2014-09-28   \n",
       "3   1:10  07:49  2014-07-11  2014-07-18   \n",
       "4   0:12  11:30  2017-03-06  2019-02-19   \n",
       "\n",
       "                                                also  \\\n",
       "0           [Agelaius phoeniceus, Melospiza melodia]   \n",
       "1  [Sitta pygmaea, Nucifraga columbiana, Poecile ...   \n",
       "2  [Passerina caerulea, Toxostoma curvirostre, Ca...   \n",
       "3                                                 []   \n",
       "4                                                 []   \n",
       "\n",
       "                                                 rmk bird-seen playback-used  \\\n",
       "0                                                      unknown       unknown   \n",
       "1  Flock of about 300 foraging in Jeffery Pine fo...       yes            no   \n",
       "2  Natural calls (or response to pishing?) from a...        no            no   \n",
       "3  possible juvenile, calls with higher pitched n...       yes            no   \n",
       "4          Bird sitting on light post in parking lot       yes            no   \n",
       "\n",
       "  length-seconds            scientific-name  \n",
       "0              4        Melospiza georgiana  \n",
       "1             75  Gymnorhinus cyanocephalus  \n",
       "2             54        Polioptila caerulea  \n",
       "3             70           Sitta canadensis  \n",
       "4             12          Corvus ossifragus  \n",
       "\n",
       "[5 rows x 28 columns]"
      ]
     },
     "execution_count": 5,
     "metadata": {},
     "output_type": "execute_result"
    }
   ],
   "source": [
    "df.head()"
   ]
  },
  {
   "cell_type": "code",
   "execution_count": 6,
   "metadata": {},
   "outputs": [
    {
     "data": {
      "text/plain": [
       "803"
      ]
     },
     "execution_count": 6,
     "metadata": {},
     "output_type": "execute_result"
    }
   ],
   "source": [
    "df['en'].unique().size"
   ]
  },
  {
   "cell_type": "code",
   "execution_count": 7,
   "metadata": {},
   "outputs": [
    {
     "data": {
      "text/plain": [
       "Identity unknown        847\n",
       "Red Crossbill           556\n",
       "Song Sparrow            552\n",
       "Northern Cardinal       458\n",
       "Carolina Wren           424\n",
       "Spotted Towhee          400\n",
       "American Robin          385\n",
       "Bewick's Wren           378\n",
       "House Wren              367\n",
       "Red-winged Blackbird    357\n",
       "Name: en, dtype: int64"
      ]
     },
     "execution_count": 7,
     "metadata": {},
     "output_type": "execute_result"
    }
   ],
   "source": [
    "df['en'].value_counts().head(10)"
   ]
  },
  {
   "cell_type": "code",
   "execution_count": 8,
   "metadata": {},
   "outputs": [
    {
     "data": {
      "text/plain": [
       "[('Cardinalis cardinalis', 2518),\n",
       " ('Agelaius phoeniceus', 2202),\n",
       " ('Turdus migratorius', 1883),\n",
       " ('Melospiza melodia', 1750),\n",
       " ('Zenaida macroura', 1545),\n",
       " ('Haemorhous mexicanus', 1327),\n",
       " ('Geothlypis trichas', 1321),\n",
       " ('Thryothorus ludovicianus', 1300),\n",
       " ('Corvus brachyrhynchos', 1267),\n",
       " ('Cyanocitta cristata', 1146)]"
      ]
     },
     "execution_count": 8,
     "metadata": {},
     "output_type": "execute_result"
    }
   ],
   "source": [
    "true_bird_instances = df['scientific-name'].tolist()\n",
    "for also in df['also']:\n",
    "    true_bird_instances.extend(filter(len, also))\n",
    "Counter(true_bird_instances).most_common(10)"
   ]
  },
  {
   "cell_type": "code",
   "execution_count": 9,
   "metadata": {},
   "outputs": [],
   "source": [
    "scientific_to_en = (\n",
    "    df.drop_duplicates(subset=['scientific-name'])\n",
    "    .set_index('scientific-name')['en']\n",
    "    .to_dict()\n",
    ")"
   ]
  },
  {
   "cell_type": "code",
   "execution_count": 10,
   "metadata": {},
   "outputs": [
    {
     "data": {
      "text/plain": [
       "[('Northern Cardinal', 2518),\n",
       " ('Red-winged Blackbird', 2202),\n",
       " ('American Robin', 1883),\n",
       " ('Song Sparrow', 1750),\n",
       " ('Mourning Dove', 1545),\n",
       " ('House Finch', 1327),\n",
       " ('Common Yellowthroat', 1321),\n",
       " ('Carolina Wren', 1300),\n",
       " ('American Crow', 1267),\n",
       " ('Blue Jay', 1146),\n",
       " ('American Yellow Warbler', 1146),\n",
       " ('Spotted Towhee', 1114),\n",
       " ('House Wren', 1066),\n",
       " ('White-winged Dove', 1021),\n",
       " (\"Bewick's Wren\", 969),\n",
       " ('Red-eyed Vireo', 876),\n",
       " ('Northern Mockingbird', 876),\n",
       " ('Tufted Titmouse', 870),\n",
       " ('Identity unknown', 847),\n",
       " ('Western Meadowlark', 844)]"
      ]
     },
     "execution_count": 10,
     "metadata": {},
     "output_type": "execute_result"
    }
   ],
   "source": [
    "Counter([scientific_to_en.get(bird, 'incidental') for bird in true_bird_instances]).most_common(20)"
   ]
  },
  {
   "cell_type": "code",
   "execution_count": 11,
   "metadata": {},
   "outputs": [],
   "source": [
    "df_filtered = df.loc[\n",
    "    df['q'].isin(['A', 'B'])\n",
    "    & (df['also'].apply(lambda x: x == ['']))\n",
    "    & (df['en'] != 'Identity unknown')\n",
    "]"
   ]
  },
  {
   "cell_type": "code",
   "execution_count": 12,
   "metadata": {},
   "outputs": [
    {
     "data": {
      "text/plain": [
       "Song Sparrow            212\n",
       "Carolina Wren           185\n",
       "Northern Cardinal       182\n",
       "American Robin          175\n",
       "Red Crossbill           162\n",
       "Red-winged Blackbird    161\n",
       "Bewick's Wren           153\n",
       "House Wren              153\n",
       "Dark-eyed Junco         153\n",
       "Blue Jay                151\n",
       "Name: en, dtype: int64"
      ]
     },
     "execution_count": 12,
     "metadata": {},
     "output_type": "execute_result"
    }
   ],
   "source": [
    "df_filtered['en'].value_counts().head(10)"
   ]
  },
  {
   "cell_type": "code",
   "execution_count": 13,
   "metadata": {},
   "outputs": [
    {
     "data": {
      "text/plain": [
       "1687"
      ]
     },
     "execution_count": 13,
     "metadata": {},
     "output_type": "execute_result"
    }
   ],
   "source": [
    "df_filtered['en'].value_counts().head(10).sum()"
   ]
  },
  {
   "cell_type": "code",
   "execution_count": 14,
   "metadata": {},
   "outputs": [
    {
     "data": {
      "text/plain": [
       "Song Sparrow             212\n",
       "Carolina Wren            185\n",
       "Northern Cardinal        182\n",
       "American Robin           175\n",
       "Red Crossbill            162\n",
       "Red-winged Blackbird     161\n",
       "Bewick's Wren            153\n",
       "House Wren               153\n",
       "Dark-eyed Junco          153\n",
       "Blue Jay                 151\n",
       "Spotted Towhee           140\n",
       "Tufted Titmouse          130\n",
       "Great Horned Owl         128\n",
       "Northern Saw-whet Owl    118\n",
       "Grey Catbird             116\n",
       "Northern Mockingbird     108\n",
       "Marsh Wren               108\n",
       "American Crow            107\n",
       "Common Yellowthroat      106\n",
       "Northern Raven           104\n",
       "Name: en, dtype: int64"
      ]
     },
     "execution_count": 14,
     "metadata": {},
     "output_type": "execute_result"
    }
   ],
   "source": [
    "df_filtered['en'].value_counts().head(20)"
   ]
  },
  {
   "cell_type": "code",
   "execution_count": 15,
   "metadata": {},
   "outputs": [
    {
     "data": {
      "text/plain": [
       "2852"
      ]
     },
     "execution_count": 15,
     "metadata": {},
     "output_type": "execute_result"
    }
   ],
   "source": [
    "df_filtered['en'].value_counts().head(20).sum()"
   ]
  },
  {
   "cell_type": "code",
   "execution_count": null,
   "metadata": {},
   "outputs": [],
   "source": []
  }
 ],
 "metadata": {
  "file_extension": ".py",
  "kernelspec": {
   "display_name": "Python 3.7.6 64-bit ('chorus': venv)",
   "language": "python",
   "name": "python37664bitchorusvenvc1803efbecb64848ab67ae19eb057e39"
  },
  "language_info": {
   "codemirror_mode": {
    "name": "ipython",
    "version": 3
   },
   "file_extension": ".py",
   "mimetype": "text/x-python",
   "name": "python",
   "nbconvert_exporter": "python",
   "pygments_lexer": "ipython3",
   "version": "3.8.2"
  },
  "mimetype": "text/x-python",
  "name": "python",
  "npconvert_exporter": "python",
  "pygments_lexer": "ipython3",
  "version": 3
 },
 "nbformat": 4,
 "nbformat_minor": 4
}
